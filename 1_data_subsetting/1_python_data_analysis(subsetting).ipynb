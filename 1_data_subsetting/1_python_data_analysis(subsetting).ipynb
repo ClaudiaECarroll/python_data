{
  "nbformat": 4,
  "nbformat_minor": 0,
  "metadata": {
    "colab": {
      "provenance": []
    },
    "kernelspec": {
      "name": "python3",
      "display_name": "Python 3"
    },
    "language_info": {
      "name": "python"
    }
  },
  "cells": [
    {
      "cell_type": "markdown",
      "source": [
        "## **Demo 1 for Python Data Analysis**\n",
        "\n",
        "Introducing:\n",
        "\n",
        "*   Accessing tabular data with Pandas\n",
        "*   Basic tabular data manipulation\n",
        "\n"
      ],
      "metadata": {
        "id": "1Gb6ktUXTi0T"
      }
    },
    {
      "cell_type": "markdown",
      "source": [
        "## **Part 1: Accessing and Summarizing Tabular Data**"
      ],
      "metadata": {
        "id": "bh_0k4FRkOEx"
      }
    },
    {
      "cell_type": "code",
      "source": [
        "file = open(\"/content/drive/MyDrive/TRIADS_workshops/workshop_data/gdp_europe.csv\")\n",
        "content = file.read()\n",
        "print(content)"
      ],
      "metadata": {
        "id": "y2cjiGhespe5"
      },
      "execution_count": null,
      "outputs": []
    },
    {
      "cell_type": "code",
      "source": [
        "from google.colab import drive\n",
        "drive.mount('/content/drive')"
      ],
      "metadata": {
        "id": "UQpqEnCkUprD"
      },
      "execution_count": null,
      "outputs": []
    },
    {
      "cell_type": "code",
      "execution_count": null,
      "metadata": {
        "id": "04b69be9"
      },
      "outputs": [],
      "source": [
        "import pandas as pd"
      ]
    },
    {
      "cell_type": "code",
      "execution_count": null,
      "metadata": {
        "id": "907c22ed"
      },
      "outputs": [],
      "source": [
        "#Using pandas to open a dataframe from the contents of the csv file gdp_africa.csv.\n",
        "#Saving the contents of the csv file to variable df\n",
        "\n",
        "df_europe = pd.read_csv(\"/content/drive/MyDrive/TRIADS_workshops/workshop_data/gdp_europe.csv\",\n",
        "                        index_col=0)"
      ]
    },
    {
      "cell_type": "code",
      "execution_count": null,
      "metadata": {
        "id": "6c1755e2"
      },
      "outputs": [],
      "source": [
        "#printing the first three rows of the dataframe\n",
        "\n",
        "df_europe.head(10)"
      ]
    },
    {
      "cell_type": "code",
      "execution_count": null,
      "metadata": {
        "id": "4701c3b5"
      },
      "outputs": [],
      "source": [
        "#Printing the last few rows of the dataframe\n",
        "\n",
        "df_europe.tail(10)"
      ]
    },
    {
      "cell_type": "code",
      "execution_count": null,
      "metadata": {
        "id": "4adcf09b"
      },
      "outputs": [],
      "source": [
        "#Getting summary info about the dataframe\n",
        "\n",
        "df_europe.info()"
      ]
    },
    {
      "cell_type": "code",
      "execution_count": null,
      "metadata": {
        "id": "34a94a77"
      },
      "outputs": [],
      "source": [
        "#Getting summary statistics about the dataframe\n",
        "\n",
        "df_europe.describe()"
      ]
    },
    {
      "cell_type": "code",
      "source": [],
      "metadata": {
        "id": "u6Jym4RhneZ9"
      },
      "execution_count": null,
      "outputs": []
    },
    {
      "cell_type": "markdown",
      "source": [
        "## **Slicing Data Subsets**"
      ],
      "metadata": {
        "id": "z6WFfOYNkWor"
      }
    },
    {
      "cell_type": "code",
      "execution_count": null,
      "metadata": {
        "id": "02570493"
      },
      "outputs": [],
      "source": [
        "#Slicing a **column** of the dataframe\n",
        "\n",
        "df_europe[\"1952\"]\n"
      ]
    },
    {
      "cell_type": "code",
      "execution_count": null,
      "metadata": {
        "id": "189e9242"
      },
      "outputs": [],
      "source": [
        "#Slicing two columns--note the double square brackets\n",
        "\n",
        "df_europe[[\"1952\", \"1962\"]]"
      ]
    },
    {
      "cell_type": "code",
      "execution_count": null,
      "metadata": {
        "id": "f2b490a8"
      },
      "outputs": [],
      "source": [
        "#Slicing a **row** of a dataframe--note the difference to slicing a column\n",
        "\n",
        "df_europe.loc[\"Belgium\"]\n",
        "\n"
      ]
    },
    {
      "cell_type": "code",
      "execution_count": null,
      "metadata": {
        "id": "c9023bd1"
      },
      "outputs": [],
      "source": [
        "#Slicing multiple rows--again, note the double square brackets\n",
        "\n",
        "df_europe.loc[[\"Belgium\", \"Slovenia\", \"Austria\"]]"
      ]
    },
    {
      "cell_type": "code",
      "execution_count": null,
      "metadata": {
        "id": "3823ec01"
      },
      "outputs": [],
      "source": [
        "#Getting a particular cell's value based on column and row headings\n",
        "\n",
        "df_europe.loc[\"Belgium\", \"1952\"]"
      ]
    },
    {
      "cell_type": "code",
      "execution_count": null,
      "metadata": {
        "id": "bdeab857"
      },
      "outputs": [],
      "source": [
        "#Getting a subset of data using a slice of both rows and columns\n",
        "\n",
        "df_europe.loc['Italy':'Poland', '1962':'1972']"
      ]
    },
    {
      "cell_type": "code",
      "source": [],
      "metadata": {
        "id": "XGbHBrp0ogRO"
      },
      "execution_count": null,
      "outputs": []
    },
    {
      "cell_type": "code",
      "execution_count": null,
      "metadata": {
        "id": "a7213c5b"
      },
      "outputs": [],
      "source": [
        "# Getting a slice of the dataframe between two columns\n",
        "\n",
        "df2 = df_europe.loc[:, '1962':'1972']\n",
        "\n",
        "df2.head()"
      ]
    },
    {
      "cell_type": "code",
      "source": [
        "df2"
      ],
      "metadata": {
        "id": "CFVEmZjWrzBI"
      },
      "execution_count": null,
      "outputs": []
    },
    {
      "cell_type": "code",
      "source": [
        "# Getting a slice between two rows\n",
        "\n",
        "df3 = df_europe.loc['Italy':'Poland']\n",
        "df3.head()"
      ],
      "metadata": {
        "id": "UJ1apODKdeue"
      },
      "execution_count": null,
      "outputs": []
    },
    {
      "cell_type": "code",
      "execution_count": null,
      "metadata": {
        "id": "fd021a9a"
      },
      "outputs": [],
      "source": [
        "#Find the minimum value in a particular **column**\n",
        "\n",
        "df_europe[\"1952\"].min()"
      ]
    },
    {
      "cell_type": "code",
      "source": [
        "df_europe[\"1952\"].idxmin()"
      ],
      "metadata": {
        "id": "1TE8fS2UvIKZ"
      },
      "execution_count": null,
      "outputs": []
    },
    {
      "cell_type": "code",
      "execution_count": null,
      "metadata": {
        "id": "700ec1d1"
      },
      "outputs": [],
      "source": [
        "#Find the minimum value in a particular **row**\n",
        "\n",
        "df_europe.loc[\"Belgium\"].max()"
      ]
    },
    {
      "cell_type": "code",
      "execution_count": null,
      "metadata": {
        "id": "883bc346"
      },
      "outputs": [],
      "source": [
        "#Get the mean GDP of every column in the dataset\n",
        "\n",
        "df_europe.mean()"
      ]
    },
    {
      "cell_type": "code",
      "execution_count": null,
      "metadata": {
        "id": "ee6d0abc"
      },
      "outputs": [],
      "source": [
        "#Get the mean value of a particular column\n",
        "\n",
        "df_europe[\"1952\"].mean()"
      ]
    },
    {
      "cell_type": "code",
      "execution_count": null,
      "metadata": {
        "id": "830ff14e"
      },
      "outputs": [],
      "source": [
        "#Extracting the names of the columns\n",
        "\n",
        "years = df_europe.columns.values\n",
        "print(years)"
      ]
    },
    {
      "cell_type": "code",
      "execution_count": null,
      "metadata": {
        "scrolled": true,
        "id": "9a62c43e"
      },
      "outputs": [],
      "source": [
        "#Extracting the names of rows\n",
        "\n",
        "countries = df_europe.index.values\n",
        "print(countries)"
      ]
    },
    {
      "cell_type": "code",
      "source": [
        "# Get the index of a column by its header\n",
        "df_europe.columns.get_loc(\"1972\")"
      ],
      "metadata": {
        "id": "xwKEjo2Wh86C"
      },
      "execution_count": null,
      "outputs": []
    },
    {
      "cell_type": "markdown",
      "source": [
        "# Exercise: Data Subsets\n",
        "\n",
        "1. Write the code to print each country in the data file gdp_africa.csv and that country's mean gdp between 1952 and 1982.\n",
        "\n",
        "2. Now write the code to print each year in gdp_africa.csv and the mean GDP in Africa that year. How does your code differ from part one?"
      ],
      "metadata": {
        "id": "-qcOV1OHxNgP"
      }
    },
    {
      "cell_type": "markdown",
      "source": [
        "### Exercise: Data Subsets -- Part One Solution"
      ],
      "metadata": {
        "id": "TKCuXuy61mVI"
      }
    },
    {
      "cell_type": "code",
      "source": [
        "import pandas as pd\n",
        "\n",
        "df_africa = pd.read_csv(\"/content/drive/MyDrive/TRIADS_workshops/workshop_data/gdp_africa.csv\", index_col=0)\n",
        "\n"
      ],
      "metadata": {
        "id": "3s_iRrktIBKL"
      },
      "execution_count": null,
      "outputs": []
    },
    {
      "cell_type": "code",
      "source": [
        "countries_africa = df_africa.index.values\n",
        "\n",
        "for x in countries_africa:\n",
        "  y = df_africa.loc[x, \"1952\": \"1982\"].mean()\n",
        "  print(x, y)"
      ],
      "metadata": {
        "id": "5ws3Hj3zVDbJ"
      },
      "execution_count": null,
      "outputs": []
    },
    {
      "cell_type": "code",
      "source": [
        "#Part 1 Alternative (not possible with commands from demo!)\n",
        "\n",
        "df_52_82 = df_africa.loc[:, \"1952\":\"1982\"]\n",
        "\n",
        "df_52_82.mean(axis=1)\n",
        "\n"
      ],
      "metadata": {
        "id": "nX3zFgfVomAB"
      },
      "execution_count": null,
      "outputs": []
    },
    {
      "cell_type": "code",
      "source": [
        "countries_africa = df_africa.index.values\n",
        "\n",
        "df_52_82 = df_africa.loc[:, \"1952\":\"1982\"]\n",
        "\n",
        "for x in countries_africa:\n",
        "  y = df_52_82.loc[x].mean()\n",
        "  print(x, y)"
      ],
      "metadata": {
        "id": "MGoc6iJgUiIj"
      },
      "execution_count": null,
      "outputs": []
    },
    {
      "cell_type": "markdown",
      "source": [
        "### Exercise: Data Subsets -- Part Two Solution"
      ],
      "metadata": {
        "id": "1o-0HJNH1p9w"
      }
    },
    {
      "cell_type": "code",
      "source": [
        "#Part 2 Solution\n",
        "\n",
        "years_africa = df_africa.columns.values\n",
        "\n",
        "for x in years_africa:\n",
        "  y = df_africa[x].mean()\n",
        "  print(x, y)"
      ],
      "metadata": {
        "id": "-FxCYqjp0wXY"
      },
      "execution_count": null,
      "outputs": []
    },
    {
      "cell_type": "code",
      "source": [
        "#Part 2 Alternative\n",
        "\n",
        "df_52_82.mean()\n"
      ],
      "metadata": {
        "id": "nuYWmfQhpPo0"
      },
      "execution_count": null,
      "outputs": []
    }
  ]
}