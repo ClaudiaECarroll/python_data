{
  "nbformat": 4,
  "nbformat_minor": 0,
  "metadata": {
    "colab": {
      "provenance": []
    },
    "kernelspec": {
      "name": "python3",
      "display_name": "Python 3"
    },
    "language_info": {
      "name": "python"
    }
  },
  "cells": [
    {
      "cell_type": "markdown",
      "source": [
        "# **Data Cleaning**\n",
        "\n",
        "Introducing:\n",
        "\n",
        "*   Duplicates\n",
        "*   Dates and Times\n",
        "*   Reorganizing Data\n",
        "*   Null Values\n"
      ],
      "metadata": {
        "id": "zRZeakNYyary"
      }
    },
    {
      "cell_type": "code",
      "source": [
        "from google.colab import drive\n",
        "drive.mount('/content/drive')"
      ],
      "metadata": {
        "id": "2JbWUG7DhIIk"
      },
      "execution_count": null,
      "outputs": []
    },
    {
      "cell_type": "markdown",
      "source": [
        "## **Data Cleaning Basics**"
      ],
      "metadata": {
        "id": "1HE2wPsbsgq6"
      }
    },
    {
      "cell_type": "code",
      "source": [
        "import pandas as pd"
      ],
      "metadata": {
        "id": "qn8g8j4T6uM4"
      },
      "execution_count": null,
      "outputs": []
    },
    {
      "cell_type": "code",
      "execution_count": null,
      "metadata": {
        "id": "b3NjEwbDxXP0"
      },
      "outputs": [],
      "source": [
        "df_SAFI = pd.read_csv(\"/content/drive/MyDrive/TRIADS_workshops/workshop_data/SAFI.csv\")"
      ]
    },
    {
      "cell_type": "code",
      "source": [
        "df_SAFI.head()"
      ],
      "metadata": {
        "id": "jvttsHPz7Lg1"
      },
      "execution_count": null,
      "outputs": []
    },
    {
      "cell_type": "code",
      "source": [
        "#Checking column headers\n",
        "\n",
        "df_SAFI.info()"
      ],
      "metadata": {
        "id": "ohvlWYPU9POx"
      },
      "execution_count": null,
      "outputs": []
    },
    {
      "cell_type": "markdown",
      "source": [
        "## Check for Duplicate Rows"
      ],
      "metadata": {
        "id": "O32_-bjFpwrq"
      }
    },
    {
      "cell_type": "code",
      "source": [
        "# Check for duplicates\n",
        "\n",
        "duplicates = df_SAFI[df_SAFI.duplicated()]\n",
        "duplicates\n"
      ],
      "metadata": {
        "id": "olCyRYCjmUZs"
      },
      "execution_count": null,
      "outputs": []
    },
    {
      "cell_type": "code",
      "source": [
        "# Remove duplicate rows\n",
        "df_SAFI = df_SAFI.drop_duplicates()"
      ],
      "metadata": {
        "id": "NPUNnDbCl7Pg"
      },
      "execution_count": null,
      "outputs": []
    },
    {
      "cell_type": "markdown",
      "source": [
        "## Dealing with Dates and Times in Pandas"
      ],
      "metadata": {
        "id": "5YyhEK2GnaW5"
      }
    },
    {
      "cell_type": "code",
      "source": [
        "df_SAFI[\"interview_date\"]"
      ],
      "metadata": {
        "id": "rLeZWRElmbiO"
      },
      "execution_count": null,
      "outputs": []
    },
    {
      "cell_type": "code",
      "source": [
        "df_SAFI[\"interview_date\"][0]"
      ],
      "metadata": {
        "id": "emanhmIrmjlC"
      },
      "execution_count": null,
      "outputs": []
    },
    {
      "cell_type": "code",
      "source": [
        "type(df_SAFI[\"interview_date\"][0])"
      ],
      "metadata": {
        "id": "pvOoOdBjmtmC"
      },
      "execution_count": null,
      "outputs": []
    },
    {
      "cell_type": "code",
      "source": [
        "# Converting certain columns to a pandas datetime object for stability and analysis\n",
        "\n",
        "df_SAFI['interview_date'] = pd.to_datetime(df_SAFI['interview_date'], dayfirst=True)"
      ],
      "metadata": {
        "id": "MuwWNbhQl7M4"
      },
      "execution_count": null,
      "outputs": []
    },
    {
      "cell_type": "code",
      "source": [
        "df_SAFI[\"interview_date\"][0]"
      ],
      "metadata": {
        "id": "kNm-Iuw2VAp1"
      },
      "execution_count": null,
      "outputs": []
    },
    {
      "cell_type": "code",
      "source": [
        "\n",
        "#Specify local timezone\n",
        "df_SAFI[\"interview_date\"] = df_SAFI[\"interview_date\"].dt.tz_localize(\"GMT\")\n",
        "\n",
        "#Convert the datetime object to a new timezone\n",
        "df_SAFI[\"interview_date\"] = df_SAFI[\"interview_date\"].dt.tz_convert(\"EST\")\n"
      ],
      "metadata": {
        "id": "ny9tgaD_vvTv"
      },
      "execution_count": null,
      "outputs": []
    },
    {
      "cell_type": "code",
      "source": [
        "# Converting the datetime objects BACK to string format, in a format specified.\n",
        "# To see different formatting options: https://docs.python.org/3/library/datetime.html#strftime-and-strptime-behavior\n",
        "\n",
        "\n",
        "df_SAFI['interview_date'] = df_SAFI['interview_date'].dt.strftime('%Y-%m-%d')\n",
        "\n"
      ],
      "metadata": {
        "id": "9oP8MfYZmUUF"
      },
      "execution_count": null,
      "outputs": []
    },
    {
      "cell_type": "code",
      "source": [
        "df_SAFI[\"interview_date\"][0]"
      ],
      "metadata": {
        "id": "yMJhZ76rnUqO"
      },
      "execution_count": null,
      "outputs": []
    },
    {
      "cell_type": "code",
      "source": [
        "type(df_SAFI[\"interview_date\"][0])"
      ],
      "metadata": {
        "id": "rq583ZzfmURV"
      },
      "execution_count": null,
      "outputs": []
    },
    {
      "cell_type": "markdown",
      "source": [
        "## Alphabetizing by Columns"
      ],
      "metadata": {
        "id": "WMF4YbKZqGp7"
      }
    },
    {
      "cell_type": "code",
      "source": [
        "df_SAFI = df_SAFI.sort_values(by='respondent_roof_type',\n",
        "                              ascending=False)\n",
        "df_SAFI[\"respondent_roof_type\"]\n"
      ],
      "metadata": {
        "id": "cx21YYExoRdT"
      },
      "execution_count": null,
      "outputs": []
    },
    {
      "cell_type": "code",
      "source": [
        "df_SAFI = df_SAFI.sort_values(by='respondent_roof_type', ascending=False)\n",
        "df_SAFI[\"respondent_roof_type\"]\n"
      ],
      "metadata": {
        "id": "l0CcqjXEoRZk"
      },
      "execution_count": null,
      "outputs": []
    },
    {
      "cell_type": "markdown",
      "source": [
        "## Standardizing Case"
      ],
      "metadata": {
        "id": "8cA0PnMBq_Wn"
      }
    },
    {
      "cell_type": "code",
      "source": [
        "df_SAFI['village']"
      ],
      "metadata": {
        "id": "ekq4LVx4oRPo"
      },
      "execution_count": null,
      "outputs": []
    },
    {
      "cell_type": "code",
      "source": [
        " df_SAFI[\"village\"] = df_SAFI['village'].str.lower()"
      ],
      "metadata": {
        "id": "9QP6iz34mUOZ"
      },
      "execution_count": null,
      "outputs": []
    },
    {
      "cell_type": "code",
      "source": [
        "df_SAFI['village']"
      ],
      "metadata": {
        "id": "XvNQHjohmUGh"
      },
      "execution_count": null,
      "outputs": []
    },
    {
      "cell_type": "markdown",
      "source": [
        "## Renaming Columns"
      ],
      "metadata": {
        "id": "GsTZei48rzvk"
      }
    },
    {
      "cell_type": "code",
      "source": [
        "new_column_names = []\n",
        "\n",
        "for col in df_SAFI.columns:\n",
        "    new_name = col.strip().lower().replace('_', '-')\n",
        "    new_column_names.append(new_name)\n",
        "\n",
        "df_SAFI.columns = new_column_names\n",
        "\n"
      ],
      "metadata": {
        "id": "CA9Vnog9rghY"
      },
      "execution_count": null,
      "outputs": []
    },
    {
      "cell_type": "code",
      "source": [
        "df_SAFI.columns"
      ],
      "metadata": {
        "id": "HRvUaAoirt4t"
      },
      "execution_count": null,
      "outputs": []
    },
    {
      "cell_type": "code",
      "source": [
        "df_SAFI.rename(columns={'gps:accuracy': 'gps-accuracy',\n",
        "                        'gps:altitude': 'gps-altitude'},\n",
        "                        inplace=True)\n"
      ],
      "metadata": {
        "id": "ifEfFlClrJ8i"
      },
      "execution_count": null,
      "outputs": []
    },
    {
      "cell_type": "markdown",
      "source": [
        "## Exercise: Data Cleaning Basics\n",
        "\n",
        "Using the gdp_europe.csv file from earlier, clean the data in the following ways:\n",
        "\n",
        "1.   Make the country names lowercase\n",
        "2.   Put the rows in descending order of the GDP in Europe in 2007\n",
        "3. Convert the column headers to datetime format\n",
        "\n"
      ],
      "metadata": {
        "id": "6K7rlBAHsWsT"
      }
    },
    {
      "cell_type": "code",
      "source": [
        "df_europe = pd.read_csv(\"/content/drive/MyDrive/python_bootcamp/sample_data/gdp_europe.csv\")"
      ],
      "metadata": {
        "id": "_MPuS4BUtgeG"
      },
      "execution_count": null,
      "outputs": []
    },
    {
      "cell_type": "code",
      "source": [
        "df_europe.head()"
      ],
      "metadata": {
        "id": "EhRnVLdBtlHV"
      },
      "execution_count": null,
      "outputs": []
    },
    {
      "cell_type": "code",
      "source": [
        "df_europe['country'] = df_europe['country'].str.lower()\n",
        "\n",
        "df_europe = df_europe.sort_values(by='2007', ascending=False)\n",
        "\n"
      ],
      "metadata": {
        "id": "NP73gC7Stnmd"
      },
      "execution_count": null,
      "outputs": []
    },
    {
      "cell_type": "code",
      "source": [
        "new_columns = []\n",
        "\n",
        "for col in df_europe.columns:\n",
        "    if col != 'country':\n",
        "        new_columns.append(pd.to_datetime(col, format='%Y'))\n",
        "    else:\n",
        "        new_columns.append(col)\n",
        "\n",
        "df_europe.columns = new_columns\n"
      ],
      "metadata": {
        "id": "aQzO5LhCtnit"
      },
      "execution_count": null,
      "outputs": []
    },
    {
      "cell_type": "code",
      "source": [
        "df_europe.head()"
      ],
      "metadata": {
        "id": "elV-AiwSunJr"
      },
      "execution_count": null,
      "outputs": []
    },
    {
      "cell_type": "markdown",
      "source": [
        "### **NaN or Null Cells**"
      ],
      "metadata": {
        "id": "sWi6ymxRjL_B"
      }
    },
    {
      "cell_type": "code",
      "source": [
        "df_SAFI.head()"
      ],
      "metadata": {
        "id": "yNVF3Qmlbdl0"
      },
      "execution_count": null,
      "outputs": []
    },
    {
      "cell_type": "code",
      "source": [
        "df_SAFI = df_SAFI[['years-farm','respondent-roof-type', 'respondent-wall-type',\n",
        "       'respondent-wall-type-other', 'respondent-floor-type',\n",
        "       'window-type', 'buildings-in-compound', 'rooms', 'other-buildings',\n",
        "       'plots-count', 'memb-assoc', 'note']]"
      ],
      "metadata": {
        "id": "nfPVM9fh74YR"
      },
      "execution_count": null,
      "outputs": []
    },
    {
      "cell_type": "code",
      "source": [
        "df_SAFI.head()"
      ],
      "metadata": {
        "id": "6H7t7huZ819i"
      },
      "execution_count": null,
      "outputs": []
    },
    {
      "cell_type": "code",
      "source": [
        "df_SAFI.info()"
      ],
      "metadata": {
        "id": "Apq3tJeb7U8q"
      },
      "execution_count": null,
      "outputs": []
    },
    {
      "cell_type": "code",
      "source": [
        "df_SAFI['memb-assoc']"
      ],
      "metadata": {
        "id": "vg5nX3AmZPVu"
      },
      "execution_count": null,
      "outputs": []
    },
    {
      "cell_type": "code",
      "source": [
        "#Remove rows with a NaN value in a particular column\n",
        "\n",
        "df_SAFI = df_SAFI[df_SAFI['memb-assoc'].notna()].reset_index(drop=True)\n",
        "\n",
        "df_SAFI.info()"
      ],
      "metadata": {
        "id": "3tdImATz-kps"
      },
      "execution_count": null,
      "outputs": []
    },
    {
      "cell_type": "code",
      "source": [
        "df_SAFI.head()"
      ],
      "metadata": {
        "id": "rwvYsB99Ev9-"
      },
      "execution_count": null,
      "outputs": []
    },
    {
      "cell_type": "code",
      "execution_count": null,
      "metadata": {
        "id": "3aab910a"
      },
      "outputs": [],
      "source": [
        "#Use dropna() to remove all columns with NaN values\n",
        "\n",
        "df_SAFI.dropna(inplace=True, axis=\"columns\")\n",
        "df_SAFI.info()"
      ]
    },
    {
      "cell_type": "code",
      "source": [
        "df_SAFI.head()"
      ],
      "metadata": {
        "id": "JJcrr8BlZcTz"
      },
      "execution_count": null,
      "outputs": []
    },
    {
      "cell_type": "code",
      "source": [
        "# Save cleaned dataframe to a new csv file\n",
        "\n",
        "df_SAFI.to_csv(\"/content/drive/MyDrive/python_bootcamp/sample_data/SAFI_cleaned.csv\")"
      ],
      "metadata": {
        "id": "6IgAli_oDvqq"
      },
      "execution_count": null,
      "outputs": []
    },
    {
      "cell_type": "markdown",
      "source": [
        "# Exercise!!"
      ],
      "metadata": {
        "id": "R5vpPlGC_PL4"
      }
    },
    {
      "cell_type": "markdown",
      "source": [
        "## Exercise: Cleaning Null Cells\n",
        "\n",
        "\n",
        "1.   Create a new dataframe called SAFI_subset from the original SAFI.csv that contains the columns respondent_roof_type, respondent_wall_type, respondent_wall_type_other, and respondent_floor_type.\n",
        "2.  Calculate the percentage of cells in the new dataframe that are null. (Hint: Use your mathematical operators!!)\n",
        "\n"
      ],
      "metadata": {
        "id": "AiLb-JTl_XrA"
      }
    },
    {
      "cell_type": "code",
      "execution_count": null,
      "metadata": {
        "id": "5d606bd0"
      },
      "outputs": [],
      "source": [
        "#Exercise 1:\n",
        "\n",
        "df_SAFI = pd.read_csv(\"/content/drive/MyDrive/python_bootcamp/sample_data/SAFI.csv\")\n",
        "\n",
        "df_SAFI_subset = df_SAFI[[\"respondent_roof_type\", \"respondent_wall_type\",\n",
        "                          \"respondent_wall_type_other\", \"respondent_floor_type\"]]\n",
        "\n"
      ]
    },
    {
      "cell_type": "code",
      "source": [
        "df_SAFI_subset.isnull()"
      ],
      "metadata": {
        "id": "ARcErQcf2AIj"
      },
      "execution_count": null,
      "outputs": []
    },
    {
      "cell_type": "code",
      "source": [
        "df_SAFI_subset.isnull().sum().sum()"
      ],
      "metadata": {
        "id": "4xbZGYnW2AB-"
      },
      "execution_count": null,
      "outputs": []
    },
    {
      "cell_type": "code",
      "source": [
        "# Summing the sums of each column, for a total sum\n",
        "\n",
        "df_SAFI_subset.isnull().sum().sum()"
      ],
      "metadata": {
        "id": "OAiwg0JSOarW"
      },
      "execution_count": null,
      "outputs": []
    },
    {
      "cell_type": "code",
      "source": [
        "col_no = len(df_SAFI_subset.columns)\n",
        "row_no = len(df_SAFI_subset.index)\n",
        "\n",
        "total_cells = col_no * row_no\n",
        "\n",
        "null_cells = df_SAFI_subset.isnull().sum().sum()\n",
        "\n",
        "percentage_null = ((null_cells/total_cells) * 100)\n",
        "\n",
        "print(percentage_null)"
      ],
      "metadata": {
        "id": "4EVLxjEa_7e7"
      },
      "execution_count": null,
      "outputs": []
    },
    {
      "cell_type": "code",
      "source": [],
      "metadata": {
        "id": "ivaVQG31jzcM"
      },
      "execution_count": null,
      "outputs": []
    },
    {
      "cell_type": "code",
      "source": [
        "\n"
      ],
      "metadata": {
        "id": "iU6DGx1kjzZk"
      },
      "execution_count": null,
      "outputs": []
    },
    {
      "cell_type": "code",
      "source": [
        "df_SAFI.info()\n"
      ],
      "metadata": {
        "id": "o52p-CzkjzW1"
      },
      "execution_count": null,
      "outputs": []
    },
    {
      "cell_type": "code",
      "source": [],
      "metadata": {
        "id": "iqC7nAaSjzQY"
      },
      "execution_count": null,
      "outputs": []
    }
  ]
}