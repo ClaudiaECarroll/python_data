{
  "nbformat": 4,
  "nbformat_minor": 0,
  "metadata": {
    "colab": {
      "provenance": []
    },
    "kernelspec": {
      "name": "python3",
      "display_name": "Python 3"
    },
    "language_info": {
      "name": "python"
    }
  },
  "cells": [
    {
      "cell_type": "markdown",
      "metadata": {
        "id": "a73f356e"
      },
      "source": [
        "## Grouping, Aggregating and Combining Data"
      ]
    },
    {
      "cell_type": "code",
      "source": [
        "import pandas as pd"
      ],
      "metadata": {
        "id": "OKiwvaPeEFAz"
      },
      "execution_count": null,
      "outputs": []
    },
    {
      "cell_type": "code",
      "source": [
        "df_SAFI = pd.read_csv(\"SAFI_results_cleaned.csv\", index_col=0)"
      ],
      "metadata": {
        "id": "i9TMU9ppDqo7"
      },
      "execution_count": null,
      "outputs": []
    },
    {
      "cell_type": "code",
      "source": [
        "df_SAFI.head()"
      ],
      "metadata": {
        "id": "n1jxcau9E5Nj"
      },
      "execution_count": null,
      "outputs": []
    },
    {
      "cell_type": "code",
      "source": [
        "df_SAFI.info()"
      ],
      "metadata": {
        "id": "8Baeo49nE9aC"
      },
      "execution_count": null,
      "outputs": []
    },
    {
      "cell_type": "code",
      "execution_count": null,
      "metadata": {
        "id": "fa5064cc"
      },
      "outputs": [],
      "source": [
        "#Print the unique values in a column\n",
        "\n",
        "df_SAFI['respondent_roof_type'].unique()"
      ]
    },
    {
      "cell_type": "code",
      "execution_count": null,
      "metadata": {
        "id": "4d76e7d8"
      },
      "outputs": [],
      "source": [
        "#Aggregate statistics about each unique value in a particular column\n",
        "\n",
        "grouped_data = df_SAFI.groupby('respondent_roof_type')\n",
        "\n",
        "grouped_data.describe()\n"
      ]
    },
    {
      "cell_type": "code",
      "execution_count": null,
      "metadata": {
        "id": "76c9c6c2"
      },
      "outputs": [],
      "source": [
        "#Group by multiple column values\n",
        "\n",
        "grouped_data = df_SAFI.groupby(['respondent_floor_type','respondent_roof_type',\n",
        "                                'respondent_wall_type'])\n",
        "grouped_data.describe()"
      ]
    },
    {
      "cell_type": "code",
      "execution_count": null,
      "metadata": {
        "id": "5c49bb01"
      },
      "outputs": [],
      "source": [
        "#Generate summary statistics about aggregated data\n",
        "\n",
        "years_farm = df_SAFI.groupby(['respondent_roof_type',\n",
        "                              'respondent_wall_type'])['years_farm'].sum()\n",
        "years_farm.head()"
      ]
    },
    {
      "cell_type": "code",
      "execution_count": null,
      "metadata": {
        "id": "4fc4d817"
      },
      "outputs": [],
      "source": [
        "df_africa = pd.read_csv(\"/content/drive/MyDrive/workshop_data/gdp_africa.csv\", index_col=0)"
      ]
    },
    {
      "cell_type": "code",
      "execution_count": null,
      "metadata": {
        "id": "02fafe65"
      },
      "outputs": [],
      "source": [
        "df_africa.head()"
      ]
    },
    {
      "cell_type": "code",
      "execution_count": null,
      "metadata": {
        "id": "8ec1147f"
      },
      "outputs": [],
      "source": [
        "df_europe = pd.read_csv(\"/content/drive/MyDrive/workshop_data/gdp_europe.csv\", index_col=0)"
      ]
    },
    {
      "cell_type": "code",
      "execution_count": null,
      "metadata": {
        "id": "cb63edbf"
      },
      "outputs": [],
      "source": [
        "#Using concat to join rows\n",
        "\n",
        "df_all_rows = pd.concat([df_africa, df_europe])\n",
        "df_all_rows"
      ]
    },
    {
      "cell_type": "code",
      "execution_count": null,
      "metadata": {
        "id": "2a5e07a6"
      },
      "outputs": [],
      "source": [
        "#Generate summary statistics of the concatenated dataframe\n",
        "\n",
        "df_all_rows.describe()"
      ]
    },
    {
      "cell_type": "code",
      "execution_count": null,
      "metadata": {
        "id": "4d69a6cf"
      },
      "outputs": [],
      "source": [
        "#Using concat to join columns\n",
        "\n",
        "df_all_columns = pd.concat([df_africa, df_europe], axis=1)\n",
        "df_all_columns"
      ]
    },
    {
      "cell_type": "code",
      "source": [],
      "metadata": {
        "id": "BmLeBwoUIDDX"
      },
      "execution_count": null,
      "outputs": []
    },
    {
      "cell_type": "markdown",
      "source": [
        "# Joins!!"
      ],
      "metadata": {
        "id": "9xQNWeKWIEMS"
      }
    },
    {
      "cell_type": "code",
      "source": [
        "students_df = pd.read_csv(\"/content/drive/MyDrive/workshop_data/students.csv\", index_col=0)\n",
        "\n",
        "grades_df = pd.read_csv(\"/content/drive/MyDrive/workshop_data/grades.csv\", index_col=0)"
      ],
      "metadata": {
        "id": "i6cF9q6XIBGA"
      },
      "execution_count": null,
      "outputs": []
    },
    {
      "cell_type": "code",
      "source": [
        "students_df.head()"
      ],
      "metadata": {
        "id": "uC-XmJQZIZze"
      },
      "execution_count": null,
      "outputs": []
    },
    {
      "cell_type": "code",
      "source": [
        "grades_df.head()"
      ],
      "metadata": {
        "id": "1qkOhxSxIZvH"
      },
      "execution_count": null,
      "outputs": []
    },
    {
      "cell_type": "code",
      "source": [
        "# 1. Inner Join: Students present in both dataframes\n",
        "inner_merged = pd.merge(students_df, grades_df, on=['student_id', 'name'], how='inner')\n",
        "inner_merged"
      ],
      "metadata": {
        "id": "9xZyueECIZqG"
      },
      "execution_count": null,
      "outputs": []
    },
    {
      "cell_type": "code",
      "source": [
        "# 2. Outer Join: All students from both dataframes\n",
        "outer_merged = pd.merge(students_df, grades_df, on=['student_id', 'name'], how='outer')\n",
        "outer_merged"
      ],
      "metadata": {
        "id": "ohySsLHjJUAx"
      },
      "execution_count": null,
      "outputs": []
    },
    {
      "cell_type": "code",
      "source": [
        "# 3. Left Join: All students from students_df and matching grades from grades_df\n",
        "left_merged = pd.merge(students_df, grades_df, on=['student_id', 'name'], how='left')\n",
        "left_merged"
      ],
      "metadata": {
        "id": "3_iIcPneJT6H"
      },
      "execution_count": null,
      "outputs": []
    },
    {
      "cell_type": "code",
      "source": [
        "# 4. Right Join: All students from grades_df and matching info from students_df\n",
        "right_merged = pd.merge(students_df, grades_df, on=['student_id', 'name'], how='right')\n",
        "right_merged"
      ],
      "metadata": {
        "id": "6DUpN3ePJTw0"
      },
      "execution_count": null,
      "outputs": []
    },
    {
      "cell_type": "markdown",
      "source": [
        "## Exercises\n",
        "\n",
        "Read in the SAFI_results.csv dataset.\n",
        "\n",
        "Get a list of the different respondent_wall_type values.\n",
        "\n",
        "\n",
        "Groupby respondent_wall_type and describe the results."
      ],
      "metadata": {
        "id": "i6uGvqlYzM25"
      }
    },
    {
      "cell_type": "code",
      "source": [
        "df_SAFI = pd.read_csv(\"/content/drive/MyDrive/workshop_data/SAFI_results_cleaned.csv\", index_col=0)\n",
        "\n",
        "df_SAFI['respondent_wall_type'].unique()\n",
        "\n"
      ],
      "metadata": {
        "id": "J9SpxLoKGhwe"
      },
      "execution_count": null,
      "outputs": []
    },
    {
      "cell_type": "code",
      "source": [
        "df_SAFI.groupby('respondent_wall_type').describe()"
      ],
      "metadata": {
        "id": "CNyQPLVATljc"
      },
      "execution_count": null,
      "outputs": []
    },
    {
      "cell_type": "code",
      "source": [],
      "metadata": {
        "id": "QX18OvFQzWwh"
      },
      "execution_count": null,
      "outputs": []
    },
    {
      "cell_type": "markdown",
      "metadata": {
        "id": "28000470"
      },
      "source": [
        "## Exercise"
      ]
    },
    {
      "cell_type": "markdown",
      "source": [
        "Create a new dataframe which is the result of an outer join of the grades and students dataframes using only the student ID column to join on. What do you notice about the column names in the new Dataframe?"
      ],
      "metadata": {
        "id": "qPrudglyHXZ7"
      }
    },
    {
      "cell_type": "code",
      "source": [
        "#Exercise 2 Part 3\n",
        "\n",
        "students_df = pd.read_csv(\"students.csv\", index_col=0)\n",
        "\n",
        "grades_df = pd.read_csv(\"grades.csv\", index_col=0)\n",
        "merged_df = pd.merge(students_df, grades_df, on='student_id', how='left')\n",
        "merged_df"
      ],
      "metadata": {
        "id": "TlQ10-yoObi7"
      },
      "execution_count": null,
      "outputs": []
    }
  ]
}